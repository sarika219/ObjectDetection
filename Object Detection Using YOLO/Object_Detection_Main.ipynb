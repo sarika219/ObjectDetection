{
 "cells": [
  {
   "cell_type": "markdown",
   "metadata": {},
   "source": [
    "# GRIPFEB21"
   ]
  },
  {
   "cell_type": "markdown",
   "metadata": {},
   "source": [
    "# Sparks Foundation Internship\n",
    "# Name : Abhisarika Tidke\n",
    "# Domain : Computer Vision and Internet Of Things\n",
    "# Task 1 : Object Detection(Basic Level)"
   ]
  },
  {
   "cell_type": "code",
   "execution_count": 6,
   "metadata": {},
   "outputs": [],
   "source": [
    "#importing libraries\n",
    "from cv2 import cv2\n",
    "import numpy as np"
   ]
  },
  {
   "cell_type": "code",
   "execution_count": 14,
   "metadata": {},
   "outputs": [],
   "source": [
    "net = cv2.dnn.readNet('yolov3.weights', 'yolov3.cfg')#this network contains yolov3 weights and configuration files\n",
    "classes=[]\n",
    "with open('coco.Names', 'r') as f:\n",
    "    classes = f.read().splitlines()\n",
    "cap = cv2.VideoCapture('tm.mp4')#video file\n",
    "#img = cv2.imread('dw.png')"
   ]
  },
  {
   "cell_type": "code",
   "execution_count": 15,
   "metadata": {},
   "outputs": [],
   "source": [
    "while True:\n",
    "    _,img = cap.read()\n",
    "    height, width, _ = img.shape\n",
    "    #normalizing the image by dividing by factor of 255\n",
    "    blob = cv2.dnn.blobFromImage(img, 1/255,(416, 416), (0,0,0), swapRB=True,crop=False)\n",
    "    net.setInput(blob)#used to set the input from the blob into the network\n",
    "    output_layers_names = net.getUnconnectedOutLayersNames()\n",
    "    layerOutputs = net.forward(output_layers_names)#Used to run the forward pass and obtainoutput at op layer\n",
    "    \n",
    "    #now creation of bounded box and confidence value\n",
    "    boxes=[]#to extract the bounding boxes\n",
    "    confidences = []#to extract the confidence\n",
    "    class_ids = []#for classes id which represent predicted classes\n",
    "    #4 bounding box offset, 1 confidence and 80 class predictions(i.e. total 85 parameters)\n",
    "    for output in layerOutputs:#to extract info from output layers\n",
    "        for detection in output:#to extract info from output\n",
    "            scores = detection[5:]#5th element is confidence. After that is 80 classes so it stores 80 class predictions\n",
    "            class_id = np.argmax(scores)#extracts highest score location\n",
    "            confidence = scores[class_id]#highest score is assigned to confidence\n",
    "            if confidence > 0.5:\n",
    "                center_x = int(detection[0]*width)\n",
    "                center_y = int(detection[1]*height)\n",
    "                w = int(detection[2]*width)\n",
    "                h = int(detection[3]*height)\n",
    "\n",
    "                x = int(center_x - w/2)#position of upper left corner\n",
    "                y = int(center_y - h/2)\n",
    "\n",
    "                boxes.append([x, y, w, h])\n",
    "\n",
    "                confidences.append((float(confidence)))\n",
    "\n",
    "                class_ids.append(class_id)\n",
    "\n",
    "\n",
    "    #print(len(boxes))#prints number of object classes in the image\n",
    "    indexes = cv2.dnn.NMSBoxes(boxes, confidences, 0.5, 0.4)\n",
    "    #print(indexes.flatten())#prints number of boxes\n",
    "    font = cv2.FONT_HERSHEY_PLAIN\n",
    "    colors = np.random.uniform(0,255, size=(len(boxes), 3))\n",
    "    for i in indexes.flatten():\n",
    "        x, y, w, h = boxes[i]\n",
    "        label = str(classes[class_ids[i]])\n",
    "        confidence = str(round(confidences[i],2))\n",
    "        color = colors[i]\n",
    "        cv2.rectangle(img, (x,y), (x+w, y+h), color, 2)\n",
    "        cv2.putText(img, label + \" \" + confidence, (x, y+20), font, 2, (255, 255, 255), 2)\n",
    "\n",
    "\n",
    "\n",
    "\n",
    "    cv2.imshow('Image',img)\n",
    "    key = cv2.waitKey(1)\n",
    "    if key == 27:\n",
    "        break\n",
    "cap.release()\n",
    "cv2.destroyAllWindows()"
   ]
  }
 ],
 "metadata": {
  "kernelspec": {
   "display_name": "Python 3",
   "language": "python",
   "name": "python3"
  },
  "language_info": {
   "codemirror_mode": {
    "name": "ipython",
    "version": 3
   },
   "file_extension": ".py",
   "mimetype": "text/x-python",
   "name": "python",
   "nbconvert_exporter": "python",
   "pygments_lexer": "ipython3",
   "version": "3.8.5"
  }
 },
 "nbformat": 4,
 "nbformat_minor": 2
}
